{
  "nbformat": 4,
  "nbformat_minor": 0,
  "metadata": {
    "colab": {
      "provenance": [],
      "authorship_tag": "ABX9TyMzzsqO5rca9uPOdHvMsZNS",
      "include_colab_link": true
    },
    "kernelspec": {
      "name": "python3",
      "display_name": "Python 3"
    },
    "language_info": {
      "name": "python"
    }
  },
  "cells": [
    {
      "cell_type": "markdown",
      "metadata": {
        "id": "view-in-github",
        "colab_type": "text"
      },
      "source": [
        "<a href=\"https://colab.research.google.com/github/melekergin/success-with-systems/blob/main/Title_Cleaning__Script.ipynb\" target=\"_parent\"><img src=\"https://colab.research.google.com/assets/colab-badge.svg\" alt=\"Open In Colab\"/></a>"
      ]
    },
    {
      "cell_type": "code",
      "execution_count": null,
      "metadata": {
        "id": "CcUCDlrlmGwS"
      },
      "outputs": [],
      "source": [
        "import pandas as pd\n",
        "import re\n",
        "\n",
        "# Load a CSV file into a DataFrame\n",
        "df = pd.read_csv('./insurance last.csv')\n",
        "\n",
        "# Define a regular expression pattern to match specific job titles\n",
        "pattern = r'\\b(?:CEO|Co[- ]?Founder|CUO|COO|Founder|Chairman|Chief [A-Za-z ]+Officer|CMO|CTO|CFO|Founding Partner|Founding Director|Financial Director)\\b'\n",
        "\n",
        "# Function to standardize variations of 'Co-Founder' in a title\n",
        "def standardize_cofounder(title):\n",
        "    # Replace variations of 'Co-Founder' with 'Co-Founder'\n",
        "    return re.sub(r'\\bCo[- ]?Founder\\b', 'Co-Founder', title, flags=re.IGNORECASE)\n",
        "\n",
        "# Function to clean and standardize job titles\n",
        "def clean_title(title):\n",
        "    title = standardize_cofounder(title)  # Standardize 'Co-Founder' before extracting titles\n",
        "    # Find all matches of the pattern in the title\n",
        "    matches = re.findall(pattern, title, re.IGNORECASE)\n",
        "    # Deduplicate matches while preserving order\n",
        "    matches = sorted(set(matches), key=matches.index)\n",
        "    # Keep only the first two matches\n",
        "    matches = matches[:2]\n",
        "    # Map found titles to their short forms using a predefined mapping\n",
        "    short_forms = [title_mapping.get(match.lower(), match) for match in matches]\n",
        "    # Return the joined short forms or 'Other' if no matches\n",
        "    return ' and '.join(short_forms) if short_forms else 'Other'\n",
        "\n",
        "# Mapping of full titles to their short forms\n",
        "title_mapping = {\n",
        "    # Mapping keys are the lowercase version of titles, and values are their standardized short forms\n",
        "    'ceo': 'CEO',\n",
        "    'co-founder': 'Co-Founder',\n",
        "    'cuo': 'CUO',\n",
        "    'coo': 'COO',\n",
        "    'founder': 'Founder',\n",
        "    'cfo': 'CFO',\n",
        "    'chairman': 'Chairman',\n",
        "    'chief executive officer': 'CEO',\n",
        "    'founding partner': 'Co-Founder',\n",
        "    'founding director': 'Founder',\n",
        "    'financial director': 'CFU',\n",
        "    'chief operating officer':'COO',\n",
        "    'chief operations officer':'COO',\n",
        "    'chief underwriting officer':'CUU',\n",
        "    'chief technical officer':'CTO',\n",
        "    'chief technology officer':'CTO',\n",
        "    'founding director':'Founder',\n",
        "    'chief product officer':'CPO',\n",
        "    'chief financial and operating Officer':'COO',\n",
        "    'Chief Finance and Operating Officer':'COO',\n",
        "    'Chief Financial Officer Operations':'COO',\n",
        "    'financial director':'CFO',\n",
        "    'chief commercial officer':'CCO',\n",
        "    'founding partner':'Co-Founder',\n",
        "    'chief marketing officer':'CMO',\n",
        "    'chief visionary officer':'CVO',\n",
        "    'chief ideas officer':'CIO',\n",
        "    'chief digital officer':'CDO',\n",
        "    'chief investment officer':'CIO',\n",
        "    'chief underwiting officer':'CUO'\n",
        "    # Additional mappings can be added as needed\n",
        "}\n",
        "\n",
        "# Apply the clean_title function to the 'Title' column of the DataFrame\n",
        "df['Cleaned_Titles'] = df['Title'].apply(clean_title)\n",
        "\n",
        "# Count the occurrences of each combination of original and cleaned titles\n",
        "df[['Title', 'Cleaned_Titles']].head()"
      ]
    }
  ]
}