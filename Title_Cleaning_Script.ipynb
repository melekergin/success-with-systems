{
  "nbformat": 4,
  "nbformat_minor": 0,
  "metadata": {
    "colab": {
      "provenance": [],
      "authorship_tag": "ABX9TyMjdm7XWN4R5SI4Gq5tzPom",
      "include_colab_link": true
    },
    "kernelspec": {
      "name": "python3",
      "display_name": "Python 3"
    },
    "language_info": {
      "name": "python"
    }
  },
  "cells": [
    {
      "cell_type": "markdown",
      "metadata": {
        "id": "view-in-github",
        "colab_type": "text"
      },
      "source": [
        "<a href=\"https://colab.research.google.com/github/melekergin/success-with-systems/blob/main/Title_Cleaning_Script.ipynb\" target=\"_parent\"><img src=\"https://colab.research.google.com/assets/colab-badge.svg\" alt=\"Open In Colab\"/></a>"
      ]
    },
    {
      "cell_type": "code",
      "execution_count": null,
      "metadata": {
        "id": "CcUCDlrlmGwS"
      },
      "outputs": [],
      "source": [
        "import pandas as pd\n",
        "import re\n",
        "\n",
        "df = pd.read_csv('./insurance last.csv')\n",
        "\n",
        "# Updated pattern to match the specified titles including all variations of 'Co-Founder'\n",
        "pattern = r'\\b(?:CEO|Co[- ]?Founder|CUO|COO|Founder|Chairman|Chief [A-Za-z ]+Officer|CMO|CTO|CFO|Founding Partner|Founding Director|Financial Director|Chief Financial and Operating Officer|Chief Finance and Operating Officer|Chief Financial Officer Operations|founding co-shareholder)\\b'\n",
        "\n",
        "# Function to standardize variations of 'Co-Founder'\n",
        "def standardize_cofounder(title):\n",
        "    # Replace variations of 'Co-Founder' with 'Co-Founder'\n",
        "    return re.sub(r'\\bCo[- ]?Founder\\b', 'Co-Founder', title, flags=re.IGNORECASE)\n",
        "\n",
        "def clean_title(title):\n",
        "    title = standardize_cofounder(title)  # Standardize 'Co-Founder' before extracting titles\n",
        "    # Find all matches of the pattern\n",
        "    matches = re.findall(pattern, title, re.IGNORECASE)\n",
        "    # Deduplicate matches while preserving order\n",
        "    matches = sorted(set(matches), key=matches.index)\n",
        "    # Keep only the first two matches\n",
        "    matches = matches[:2]\n",
        "    # Map found titles to their short forms using title_mapping\n",
        "    short_forms = [title_mapping.get(match.lower(), match) for match in matches]\n",
        "    # Return the joined short forms or 'Other' if no matches\n",
        "    return ' and '.join(short_forms) if short_forms else 'Other'\n",
        "\n",
        "title_mapping = {\n",
        "    'ceo': 'CEO',\n",
        "    'co-founder': 'Co-Founder',\n",
        "    'cuo': 'CUO',\n",
        "    'coo': 'COO',\n",
        "    'founder': 'Founder',\n",
        "    'cfo': 'CFO',\n",
        "    'chairman': 'Chairman',\n",
        "    'chief executive officer': 'CEO',\n",
        "    'founding partner': 'Co-Founder',\n",
        "    'founding director': 'Founder',\n",
        "    'financial director': 'CFO',\n",
        "    'chief financial officer':'CFO',\n",
        "    'chief financial and operating officer': 'COO',\n",
        "    'chief finance and operating officer': 'COO',\n",
        "    'chief financial officer operations': 'COO',\n",
        "    'chief finance and operations officer':'COO',\n",
        "    'chief operating officer':'COO',\n",
        "    'chief operations officer':'COO',\n",
        "    'chief underwriting officer':'CUO',\n",
        "    'chief technical officer':'CTO',\n",
        "    'chief technology officer':'CTO',\n",
        "    'chief product officer':'CPO',\n",
        "    'chief commercial officer':'CCO',\n",
        "    'chief marketing officer':'CMO',\n",
        "    'chief visionary officer':'CVO',\n",
        "    'chief digital officer':'CDO',\n",
        "    'founding co-shareholder': 'Co-Founder',\n",
        "    'chief investment officer':'CIO',\n",
        "    'chief people officer':'CPO'\n",
        "    # Add other mappings as needed\n",
        "}\n",
        "\n",
        "df['Cleaned_Titles'] = df['Title'].apply(clean_title)\n",
        "\n",
        "df[['Title', 'Cleaned_Titles']].value_counts()"
      ]
    }
  ]
}